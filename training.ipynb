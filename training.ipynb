{
 "cells": [
  {
   "cell_type": "code",
   "execution_count": 1,
   "metadata": {},
   "outputs": [],
   "source": [
    "import tensorflow as tf\n",
    "import pandas as pd\n",
    "import numpy as np\n",
    "\n",
    "from tensorflow.keras.models import Sequential\n",
    "from tensorflow.keras.layers import Dense\n",
    "from tensorflow.keras.optimizers import Adam\n",
    "from sklearn.preprocessing import MinMaxScaler\n",
    "from tensorflow import keras\n",
    "\n",
    "import os"
   ]
  },
  {
   "cell_type": "markdown",
   "metadata": {},
   "source": [
    "<h3>훈련 데이터 정규화</h3>"
   ]
  },
  {
   "cell_type": "code",
   "execution_count": 2,
   "metadata": {},
   "outputs": [],
   "source": [
    "csv_wmi = pd.read_csv(\"normal01/normal_wmi.csv\", index_col = 0)\n",
    "csv_wmi = csv_wmi.drop([\"Name\"], axis = 1)"
   ]
  },
  {
   "cell_type": "code",
   "execution_count": 4,
   "metadata": {
    "scrolled": false
   },
   "outputs": [],
   "source": [
    "scaler = MinMaxScaler()\n",
    "scaled_wmi = scaler.fit_transform(csv_wmi.to_numpy())"
   ]
  },
  {
   "cell_type": "code",
   "execution_count": 5,
   "metadata": {},
   "outputs": [
    {
     "data": {
      "text/plain": [
       "(177, 29)"
      ]
     },
     "execution_count": 5,
     "metadata": {},
     "output_type": "execute_result"
    }
   ],
   "source": [
    "train_wmi = scaled_wmi\n",
    "train_wmi.shape"
   ]
  },
  {
   "cell_type": "markdown",
   "metadata": {},
   "source": [
    "<h3>모델 설계</h3>"
   ]
  },
  {
   "cell_type": "code",
   "execution_count": 6,
   "metadata": {},
   "outputs": [],
   "source": [
    "def create_model(input_dim):\n",
    "    model = Sequential([\n",
    "        Dense(input_dim, activation = 'tanh', input_shape = (input_dim, )),\n",
    "        Dense(input_dim//3, activation = 'relu'),\n",
    "        Dense(input_dim//3, activation = 'tanh'),\n",
    "        Dense(input_dim, activation = 'sigmoid')\n",
    "    ])\n",
    "    \n",
    "    model.compile(optimizer = Adam(), loss = 'mse')\n",
    "    model.summary()\n",
    "    \n",
    "    return model"
   ]
  },
  {
   "cell_type": "code",
   "execution_count": 7,
   "metadata": {
    "scrolled": true
   },
   "outputs": [
    {
     "name": "stdout",
     "output_type": "stream",
     "text": [
      "Model: \"sequential\"\n",
      "_________________________________________________________________\n",
      " Layer (type)                Output Shape              Param #   \n",
      "=================================================================\n",
      " dense (Dense)               (None, 29)                870       \n",
      "                                                                 \n",
      " dense_1 (Dense)             (None, 9)                 270       \n",
      "                                                                 \n",
      " dense_2 (Dense)             (None, 9)                 90        \n",
      "                                                                 \n",
      " dense_3 (Dense)             (None, 29)                290       \n",
      "                                                                 \n",
      "=================================================================\n",
      "Total params: 1,520\n",
      "Trainable params: 1,520\n",
      "Non-trainable params: 0\n",
      "_________________________________________________________________\n"
     ]
    }
   ],
   "source": [
    "model_for_wmi = create_model(train_wmi.shape[1])"
   ]
  },
  {
   "cell_type": "markdown",
   "metadata": {},
   "source": [
    "<h3>모델 훈련 (WMI)</h3>"
   ]
  },
  {
   "cell_type": "code",
   "execution_count": 135,
   "metadata": {
    "scrolled": false
   },
   "outputs": [
    {
     "name": "stdout",
     "output_type": "stream",
     "text": [
      "Epoch 1/20\n",
      "1/1 [==============================] - 0s 3ms/step - loss: 0.1032\n",
      "\n",
      "Epoch 00001: saving model to training_1\\cpwmi.ckpt\n",
      "Epoch 2/20\n",
      "1/1 [==============================] - 0s 3ms/step - loss: 0.1020\n",
      "\n",
      "Epoch 00002: saving model to training_1\\cpwmi.ckpt\n",
      "Epoch 3/20\n",
      "1/1 [==============================] - 0s 2ms/step - loss: 0.1009\n",
      "\n",
      "Epoch 00003: saving model to training_1\\cpwmi.ckpt\n",
      "Epoch 4/20\n",
      "1/1 [==============================] - 0s 3ms/step - loss: 0.0998\n",
      "\n",
      "Epoch 00004: saving model to training_1\\cpwmi.ckpt\n",
      "Epoch 5/20\n",
      "1/1 [==============================] - 0s 2ms/step - loss: 0.0987\n",
      "\n",
      "Epoch 00005: saving model to training_1\\cpwmi.ckpt\n",
      "Epoch 6/20\n",
      "1/1 [==============================] - 0s 2ms/step - loss: 0.0976\n",
      "\n",
      "Epoch 00006: saving model to training_1\\cpwmi.ckpt\n",
      "Epoch 7/20\n",
      "1/1 [==============================] - 0s 3ms/step - loss: 0.0965\n",
      "\n",
      "Epoch 00007: saving model to training_1\\cpwmi.ckpt\n",
      "Epoch 8/20\n",
      "1/1 [==============================] - 0s 2ms/step - loss: 0.0955\n",
      "\n",
      "Epoch 00008: saving model to training_1\\cpwmi.ckpt\n",
      "Epoch 9/20\n",
      "1/1 [==============================] - 0s 3ms/step - loss: 0.0944\n",
      "\n",
      "Epoch 00009: saving model to training_1\\cpwmi.ckpt\n",
      "Epoch 10/20\n",
      "1/1 [==============================] - 0s 2ms/step - loss: 0.0934\n",
      "\n",
      "Epoch 00010: saving model to training_1\\cpwmi.ckpt\n",
      "Epoch 11/20\n",
      "1/1 [==============================] - 0s 3ms/step - loss: 0.0924\n",
      "\n",
      "Epoch 00011: saving model to training_1\\cpwmi.ckpt\n",
      "Epoch 12/20\n",
      "1/1 [==============================] - 0s 3ms/step - loss: 0.0914\n",
      "\n",
      "Epoch 00012: saving model to training_1\\cpwmi.ckpt\n",
      "Epoch 13/20\n",
      "1/1 [==============================] - 0s 2ms/step - loss: 0.0905\n",
      "\n",
      "Epoch 00013: saving model to training_1\\cpwmi.ckpt\n",
      "Epoch 14/20\n",
      "1/1 [==============================] - 0s 2ms/step - loss: 0.0895\n",
      "\n",
      "Epoch 00014: saving model to training_1\\cpwmi.ckpt\n",
      "Epoch 15/20\n",
      "1/1 [==============================] - 0s 3ms/step - loss: 0.0886\n",
      "\n",
      "Epoch 00015: saving model to training_1\\cpwmi.ckpt\n",
      "Epoch 16/20\n",
      "1/1 [==============================] - 0s 3ms/step - loss: 0.0877\n",
      "\n",
      "Epoch 00016: saving model to training_1\\cpwmi.ckpt\n",
      "Epoch 17/20\n",
      "1/1 [==============================] - 0s 3ms/step - loss: 0.0868\n",
      "\n",
      "Epoch 00017: saving model to training_1\\cpwmi.ckpt\n",
      "Epoch 18/20\n",
      "1/1 [==============================] - 0s 3ms/step - loss: 0.0859\n",
      "\n",
      "Epoch 00018: saving model to training_1\\cpwmi.ckpt\n",
      "Epoch 19/20\n",
      "1/1 [==============================] - 0s 3ms/step - loss: 0.0850\n",
      "\n",
      "Epoch 00019: saving model to training_1\\cpwmi.ckpt\n",
      "Epoch 20/20\n",
      "1/1 [==============================] - 0s 4ms/step - loss: 0.0842\n",
      "\n",
      "Epoch 00020: saving model to training_1\\cpwmi.ckpt\n"
     ]
    },
    {
     "data": {
      "text/plain": [
       "<tensorflow.python.keras.callbacks.History at 0x24f7b08a7f0>"
      ]
     },
     "execution_count": 135,
     "metadata": {},
     "output_type": "execute_result"
    }
   ],
   "source": [
    "checkpoint_path = \"training_1/cpwmi.ckpt\"\n",
    "checkpoint_dir = os.path.dirname(checkpoint_path)\n",
    "\n",
    "cp_callback = keras.callbacks.ModelCheckpoint(filepath = checkpoint_path,\n",
    "                                             save_weights_only = True,\n",
    "                                             verbose = 1)\n",
    "model_for_wmi.fit(train_wmi, train_wmi, epochs = 20, batch_size = 256,\n",
    "         callbacks=[cp_callback])"
   ]
  }
 ],
 "metadata": {
  "kernelspec": {
   "display_name": "Python 3 (ipykernel)",
   "language": "python",
   "name": "python3"
  },
  "language_info": {
   "codemirror_mode": {
    "name": "ipython",
    "version": 3
   },
   "file_extension": ".py",
   "mimetype": "text/x-python",
   "name": "python",
   "nbconvert_exporter": "python",
   "pygments_lexer": "ipython3",
   "version": "3.7.16"
  }
 },
 "nbformat": 4,
 "nbformat_minor": 4
}
