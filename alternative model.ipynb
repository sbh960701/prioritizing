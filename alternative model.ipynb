{
 "cells": [
  {
   "cell_type": "code",
   "execution_count": 14,
   "id": "401b6f52",
   "metadata": {},
   "outputs": [],
   "source": [
    "from sklearn.ensemble import IsolationForest\n",
    "from sklearn import svm\n",
    "from sklearn.preprocessing import MinMaxScaler\n",
    "from sklearn.preprocessing import StandardScaler\n",
    "from sklearn.decomposition import PCA\n",
    "import os\n",
    "import pandas as pd"
   ]
  },
  {
   "cell_type": "code",
   "execution_count": 6,
   "id": "580e86b9",
   "metadata": {},
   "outputs": [],
   "source": [
    "csv_wmi = pd.read_csv(\"normal01/normal_wmi.csv\", index_col = 0)\n",
    "csv_wmi = csv_wmi.drop([\"Name\"], axis = 1)\n",
    "\n",
    "scaler = MinMaxScaler()\n",
    "scaled_wmi = scaler.fit_transform(csv_wmi.to_numpy())"
   ]
  },
  {
   "cell_type": "markdown",
   "id": "db61fa7b",
   "metadata": {},
   "source": [
    "<h3>isolaion forest</h3>"
   ]
  },
  {
   "cell_type": "code",
   "execution_count": 7,
   "id": "3c0c7a51",
   "metadata": {},
   "outputs": [
    {
     "data": {
      "text/plain": [
       "IsolationForest(contamination=0.005, max_samples=100, random_state=0)"
      ]
     },
     "execution_count": 7,
     "metadata": {},
     "output_type": "execute_result"
    }
   ],
   "source": [
    "isol10 = IsolationForest(contamination = 0.005, max_samples=100, random_state = 0)\n",
    "isol10.fit(scaled_wmi)"
   ]
  },
  {
   "cell_type": "code",
   "execution_count": 8,
   "id": "a2523f0c",
   "metadata": {},
   "outputs": [],
   "source": [
    "total_wmi = pd.read_csv(\"wmi_total.csv\", index_col = 0)\n",
    "csv_wmi = total_wmi.drop([\"malicious\"], axis = 1)\n",
    "\n",
    "y = total_wmi['malicious'].values\n",
    "y = pd.DataFrame(y, columns = [\"label\"])\n",
    "\n",
    "scaler = MinMaxScaler()\n",
    "test_wmi = scaler.fit_transform(csv_wmi.to_numpy())"
   ]
  },
  {
   "cell_type": "code",
   "execution_count": 11,
   "id": "ae29eecf",
   "metadata": {},
   "outputs": [],
   "source": [
    "y_pred = isol10.predict(test_wmi)"
   ]
  },
  {
   "cell_type": "markdown",
   "id": "bec102d7",
   "metadata": {},
   "source": [
    "<h3>one-class svm</h3>"
   ]
  },
  {
   "cell_type": "code",
   "execution_count": 12,
   "id": "08f1c756",
   "metadata": {},
   "outputs": [
    {
     "data": {
      "text/plain": [
       "OneClassSVM(nu=0.002)"
      ]
     },
     "execution_count": 12,
     "metadata": {},
     "output_type": "execute_result"
    }
   ],
   "source": [
    "svm10 = svm.OneClassSVM(nu = 0.002, kernel = \"rbf\", gamma = 'scale')\n",
    "\n",
    "svm10.fit(scaled_wmi)"
   ]
  },
  {
   "cell_type": "code",
   "execution_count": 13,
   "id": "54c109da",
   "metadata": {},
   "outputs": [],
   "source": [
    "y_pred_svm = svm10.predict(test_wmi)"
   ]
  },
  {
   "cell_type": "markdown",
   "id": "8f8a9fe0",
   "metadata": {},
   "source": [
    "<h3>PCA</h3>"
   ]
  },
  {
   "cell_type": "code",
   "execution_count": 15,
   "id": "37a509fa",
   "metadata": {},
   "outputs": [],
   "source": [
    "def read_dir():\n",
    "    path = \"infected system/\"\n",
    "    listdir = os.listdir(path)\n",
    "    \n",
    "    return listdir"
   ]
  },
  {
   "cell_type": "code",
   "execution_count": 16,
   "id": "a162dbdd",
   "metadata": {},
   "outputs": [],
   "source": [
    "def anomaly_pca():\n",
    "    listdir = read_dir()\n",
    "    result = []\n",
    "    total_df = pd.DataFrame(columns = ['mse', 'label'])\n",
    "    for d in listdir:\n",
    "        print(\"============================================================\")\n",
    "        print(d)\n",
    "        df = pd.read_csv(\"infected system/\" + d + \"/wmi.csv\", index_col = 0)\n",
    "        x = df.drop([\"Name\", \"f30\"], axis = 1).values\n",
    "        y = df['f30'].values\n",
    "        \n",
    "        x = StandardScaler().fit_transform(x)\n",
    "        \n",
    "        recovered_x = pca(x)\n",
    "        nr = cal_mse(pd.DataFrame(x), pd.DataFrame(recovered_x), y, d)\n",
    "        sorted_df = cal_mse_3333(pd.DataFrame(x), pd.DataFrame(recovered_x), y, d)\n",
    "        \n",
    "        total_df = pd.concat([total_df, sorted_df], axis = 0)\n",
    "        \n",
    "        result.append(nr)\n",
    "        \n",
    "    #return result\n",
    "    return total_df"
   ]
  },
  {
   "cell_type": "code",
   "execution_count": 17,
   "id": "2abc88f6",
   "metadata": {},
   "outputs": [],
   "source": [
    "def pca(x):\n",
    "    pca = PCA(n_components=5)\n",
    "    printcipalComponents = pca.fit_transform(x)\n",
    "    principalDf = pd.DataFrame(data=printcipalComponents)\n",
    "    \n",
    "    recovered_x = pca.inverse_transform(printcipalComponents)\n",
    "    recovered_x_df = pd.DataFrame(recovered_x)\n",
    "    \n",
    "    return recovered_x"
   ]
  },
  {
   "cell_type": "code",
   "execution_count": 18,
   "id": "5db854cc",
   "metadata": {},
   "outputs": [],
   "source": [
    "def cal_mse(df1, df2, y, d):\n",
    "    mse = []\n",
    "\n",
    "    for i in range(0, len(df1)):\n",
    "        mse.append(((df1.loc[i] - df2.loc[i]) ** 2).sum() / len(df1.loc[i]))\n",
    "        \n",
    "    mseDF = pd.DataFrame(mse, columns = [\"mse\"])\n",
    "    labelDF = pd.DataFrame(y, columns = [\"label\"])\n",
    "    mse_label = pd.concat([mseDF, labelDF],axis=1)\n",
    "    sorted_df = mse_label.sort_values(by = 'mse', ascending = False)\n",
    "    sorted_df = sorted_df.reset_index(drop = True)\n",
    "\n",
    "    t10 = 0\n",
    "    t20 = 0\n",
    "    t30 = 0\n",
    "    tmal = 0\n",
    "    \n",
    "    for i in range(0, len(sorted_df)):\n",
    "        if sorted_df.loc[i][\"label\"] == 1:\n",
    "            print(str(i) + \"/\" + str(len(df1)))\n",
    "            tmal = tmal + 1\n",
    "            if i <= len(sorted_df)/20:\n",
    "                t10 = t10 + 1\n",
    "            if i <= len(sorted_df)/10:\n",
    "                t20 = t20 + 1\n",
    "            if i <= len(sorted_df)/7:\n",
    "                t30 = t30 + 1\n",
    "    \n",
    "    prc10 = t10 / (len(sorted_df)/20)\n",
    "    prc20 = t20 / (len(sorted_df)/10)\n",
    "    prc30 = t30 / (len(sorted_df)/7)\n",
    "    \n",
    "    if tmal != 0:\n",
    "        rcl10 = t10 / tmal\n",
    "        rcl20 = t20 / tmal\n",
    "        rcl30 = t30 / tmal\n",
    "        \n",
    "    else:\n",
    "        rcl10 = 0\n",
    "        rcl20 = 0\n",
    "        rcl30 = 0\n",
    "    \n",
    "    if (prc10 + rcl10) != 0:\n",
    "        fs10 = 2 * (prc10 * rcl10) / (prc10 + rcl10)\n",
    "    else:\n",
    "        fs10 = 0\n",
    "    if (prc20 + rcl20) != 0:\n",
    "        fs20 = 2 * (prc20 * rcl20) / (prc20 + rcl20)\n",
    "    else:\n",
    "        fs20 = 0\n",
    "    if (prc30 + rcl30) != 0:\n",
    "        fs30 = 2 * (prc30 * rcl30) / (prc30 + rcl30)\n",
    "    else:\n",
    "        fs30 = 0\n",
    "    \n",
    "    return [d, prc10, rcl10, fs10, prc20, rcl20, fs20, prc30, rcl30, fs30]"
   ]
  },
  {
   "cell_type": "code",
   "execution_count": 20,
   "id": "d37fdc2c",
   "metadata": {},
   "outputs": [],
   "source": [
    "def cal_mse_3333(df1, df2, y, d):\n",
    "    mse = []\n",
    "\n",
    "    for i in range(0, len(df1)):\n",
    "        mse.append(((df1.loc[i] - df2.loc[i]) ** 2).sum() / len(df1.loc[i]))\n",
    "        \n",
    "    mseDF = pd.DataFrame(mse, columns = [\"mse\"])\n",
    "    labelDF = pd.DataFrame(y, columns = [\"label\"])\n",
    "    mse_label = pd.concat([mseDF, labelDF],axis=1)\n",
    "    sorted_df = mse_label.sort_values(by = 'mse', ascending = False)\n",
    "    sorted_df = sorted_df.reset_index(drop = True)\n",
    "    \n",
    "    return sorted_df"
   ]
  },
  {
   "cell_type": "code",
   "execution_count": 21,
   "id": "00179a76",
   "metadata": {},
   "outputs": [
    {
     "name": "stdout",
     "output_type": "stream",
     "text": [
      "============================================================\n",
      "2a198c0616908013a49e856678b5143c\n",
      "26/153\n",
      "43/153\n",
      "============================================================\n",
      "4684f096da1f045a4e5c4ee7ca945259\n",
      "23/147\n",
      "============================================================\n",
      "4996efb901d5c379c575bb7908651071\n",
      "============================================================\n",
      "4aa53791373b8d09b5773f3ea086b803\n",
      "24/152\n",
      "============================================================\n",
      "5771a7f5aaa45c2a12fa7d1d043ae222\n",
      "============================================================\n",
      "6b8d9642391687d948129206b805b980\n",
      "46/154\n",
      "============================================================\n",
      "6e2da504218d67df1a4d8db18e9be706\n",
      "40/151\n",
      "============================================================\n",
      "6ea487c55f789e2d2c0b3c20c8674214\n",
      "27/159\n",
      "============================================================\n",
      "6eedee0bc42edb6922e6e78f749bab88\n",
      "39/152\n",
      "65/152\n",
      "76/152\n",
      "78/152\n",
      "82/152\n",
      "89/152\n",
      "92/152\n",
      "============================================================\n",
      "6f194c2bf64aa91f8b25768aaedf954e\n",
      "============================================================\n",
      "6f3c7fa16f0e61f01c9ca873ce257981\n",
      "7/146\n",
      "============================================================\n",
      "6fd75941954dda0a8d6bd5180b233a37\n",
      "34/162\n",
      "============================================================\n",
      "8102acd2e76cdc88d8c893ed30e56f46\n",
      "============================================================\n",
      "8821a5f07134fbaacf35ba62ba50aaed\n",
      "20/155\n",
      "============================================================\n",
      "9629bdb89f6d9fa96162f5d4a0be3e38\n",
      "2/153\n"
     ]
    }
   ],
   "source": [
    "result = anomaly_pca()"
   ]
  },
  {
   "cell_type": "code",
   "execution_count": null,
   "id": "44ae216d",
   "metadata": {},
   "outputs": [],
   "source": []
  }
 ],
 "metadata": {
  "kernelspec": {
   "display_name": "Python 3 (ipykernel)",
   "language": "python",
   "name": "python3"
  },
  "language_info": {
   "codemirror_mode": {
    "name": "ipython",
    "version": 3
   },
   "file_extension": ".py",
   "mimetype": "text/x-python",
   "name": "python",
   "nbconvert_exporter": "python",
   "pygments_lexer": "ipython3",
   "version": "3.7.16"
  }
 },
 "nbformat": 4,
 "nbformat_minor": 5
}
