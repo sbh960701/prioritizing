{
 "cells": [
  {
   "cell_type": "code",
   "execution_count": 1,
   "id": "de7bcca0",
   "metadata": {},
   "outputs": [],
   "source": [
    "import tensorflow as tf\n",
    "import pandas as pd\n",
    "import numpy as np\n",
    "\n",
    "from tensorflow.keras.models import Sequential\n",
    "from tensorflow.keras.layers import Dense\n",
    "from tensorflow.keras.optimizers import Adam\n",
    "from sklearn.preprocessing import MinMaxScaler\n",
    "from tensorflow import keras\n",
    "\n",
    "import os\n",
    "import matplotlib.pyplot as plt"
   ]
  },
  {
   "cell_type": "markdown",
   "id": "c770c529",
   "metadata": {},
   "source": [
    "<h3>모델 생성 및 불러오기</h3>"
   ]
  },
  {
   "cell_type": "code",
   "execution_count": 2,
   "id": "2a458a58",
   "metadata": {},
   "outputs": [],
   "source": [
    "def create_model(input_dim):\n",
    "    model = Sequential([\n",
    "        Dense(input_dim, activation = 'tanh', input_shape = (input_dim, )),\n",
    "        Dense(input_dim//3, activation = 'relu'),\n",
    "        Dense(input_dim//3, activation = 'tanh'),\n",
    "        Dense(input_dim, activation = 'sigmoid')\n",
    "    ])\n",
    "    \n",
    "    model.compile(optimizer = Adam(), loss = 'mse')\n",
    "    model.summary()\n",
    "    \n",
    "    return model"
   ]
  },
  {
   "cell_type": "code",
   "execution_count": 3,
   "id": "cabc9b33",
   "metadata": {},
   "outputs": [],
   "source": [
    "def load_model(model, checkpoint_path):\n",
    "    model.load_weights(checkpoint_path)\n",
    "    \n",
    "    return model"
   ]
  },
  {
   "cell_type": "code",
   "execution_count": 4,
   "id": "6b4924c6",
   "metadata": {},
   "outputs": [
    {
     "name": "stdout",
     "output_type": "stream",
     "text": [
      "Model: \"sequential\"\n",
      "_________________________________________________________________\n",
      " Layer (type)                Output Shape              Param #   \n",
      "=================================================================\n",
      " dense (Dense)               (None, 29)                870       \n",
      "                                                                 \n",
      " dense_1 (Dense)             (None, 9)                 270       \n",
      "                                                                 \n",
      " dense_2 (Dense)             (None, 9)                 90        \n",
      "                                                                 \n",
      " dense_3 (Dense)             (None, 29)                290       \n",
      "                                                                 \n",
      "=================================================================\n",
      "Total params: 1,520\n",
      "Trainable params: 1,520\n",
      "Non-trainable params: 0\n",
      "_________________________________________________________________\n"
     ]
    }
   ],
   "source": [
    "model_wmi = create_model(29)\n",
    "model_wmi = load_model(model_wmi, \"training_1/cpwmi.ckpt\")"
   ]
  },
  {
   "cell_type": "markdown",
   "id": "ab18cbd9",
   "metadata": {},
   "source": [
    "<h3>이상탐지</h3>"
   ]
  },
  {
   "cell_type": "code",
   "execution_count": 5,
   "id": "b5439fc1",
   "metadata": {},
   "outputs": [],
   "source": [
    "def load_data(system):\n",
    "    wmi_mal = []\n",
    "    \n",
    "    #데이테 불러오기\n",
    "    csv1 = pd.read_csv(system + \"/wmi.csv\", index_col = 0)\n",
    "    csv_wmi = csv1.drop([\"Name\", \"f30\"], axis = 1)\n",
    "\n",
    "    y = csv1['f30'].values\n",
    "    y = pd.DataFrame(y, columns = [\"label\"])\n",
    "    \n",
    "    #데이터 정규화\n",
    "    scaler = MinMaxScaler()\n",
    "    scaled_wmi = scaler.fit_transform(csv_wmi.to_numpy())\n",
    "    \n",
    "    return scaled_wmi, y, csv1"
   ]
  },
  {
   "cell_type": "code",
   "execution_count": 6,
   "id": "953c5e8b",
   "metadata": {},
   "outputs": [],
   "source": [
    "def detect(test_wmi):\n",
    "    predictions = model_wmi.predict(test_wmi)\n",
    "    mse = np.mean(np.power(test_wmi - predictions, 2), axis=1)\n",
    "    \n",
    "    return mse"
   ]
  },
  {
   "cell_type": "code",
   "execution_count": 26,
   "id": "49a8141c",
   "metadata": {},
   "outputs": [
    {
     "name": "stdout",
     "output_type": "stream",
     "text": [
      "5/5 [==============================] - 0s 1ms/step\n",
      "5/5 [==============================] - 0s 1ms/step\n",
      "5/5 [==============================] - 0s 2ms/step\n",
      "5/5 [==============================] - 0s 553us/step\n",
      "5/5 [==============================] - 0s 1ms/step\n",
      "5/5 [==============================] - 0s 2ms/step\n",
      "5/5 [==============================] - 0s 1ms/step\n",
      "5/5 [==============================] - 0s 713us/step\n",
      "5/5 [==============================] - 0s 835us/step\n",
      "6/6 [==============================] - 0s 189us/step\n",
      "5/5 [==============================] - 0s 758us/step\n",
      "6/6 [==============================] - 0s 1ms/step\n",
      "5/5 [==============================] - 0s 2ms/step\n",
      "5/5 [==============================] - 0s 1ms/step\n",
      "5/5 [==============================] - 0s 751us/step\n"
     ]
    }
   ],
   "source": [
    "path = \"infected system/\"\n",
    "listdir = os.listdir(path)\n",
    "result = []\n",
    "\n",
    "for system in listdir:\n",
    "    test_wmi, y, csv1 = load_data(path + system)\n",
    "    mse = detect(test_wmi)\n",
    "    \n",
    "    error_df = pd.DataFrame({'reconstruction_error': mse})\n",
    "    \n",
    "    mse_y = pd.concat([error_df, y], axis = 1)\n",
    "    \n",
    "    sorted_df = mse_y.sort_values(by = 'reconstruction_error', ascending = False)\n",
    "    sorted_df = sorted_df.reset_index(drop = True)\n",
    "    \n",
    "    t10 = 0\n",
    "    t20 = 0\n",
    "    t30 = 0\n",
    "    tmal = 0\n",
    "    \n",
    "    for i in range(0, len(sorted_df)):\n",
    "        if sorted_df.loc[i][\"label\"] == 1:\n",
    "            tmal = tmal + 1\n",
    "            if i <= len(sorted_df)/20:\n",
    "                t10 = t10 + 1\n",
    "            if i <= len(sorted_df)/10:\n",
    "                t20 = t20 + 1\n",
    "            if i <= len(sorted_df)/7:\n",
    "                t30 = t30 + 1\n",
    "        \n",
    "        \n",
    "        \n",
    "    prc10 = t10 / (len(sorted_df)/20)\n",
    "    prc20 = t20 / (len(sorted_df)/10)\n",
    "    prc30 = t30 / (len(sorted_df)/7)\n",
    "    \n",
    "    if tmal != 0:\n",
    "        rcl10 = t10 / tmal\n",
    "        rcl20 = t20 / tmal\n",
    "        rcl30 = t30 / tmal\n",
    "        \n",
    "    else:\n",
    "        rcl10 = 0\n",
    "        rcl20 = 0\n",
    "        rcl30 = 0\n",
    "    \n",
    "    if (prc10 + rcl10) != 0:\n",
    "        fs10 = 2 * (prc10 * rcl10) / (prc10 + rcl10)\n",
    "    else:\n",
    "        fs10 = 0\n",
    "    if (prc20 + rcl20) != 0:\n",
    "        fs20 = 2 * (prc20 * rcl20) / (prc20 + rcl20)\n",
    "    else:\n",
    "        fs20 = 0\n",
    "    if (prc30 + rcl30) != 0:\n",
    "        fs30 = 2 * (prc30 * rcl30) / (prc30 + rcl30)\n",
    "    else:\n",
    "        fs30 = 0\n",
    "    result.append([system, prc10, rcl10, fs10, prc20, rcl20, fs20, prc30, rcl30, fs30])"
   ]
  },
  {
   "cell_type": "markdown",
   "id": "0d418890",
   "metadata": {},
   "source": [
    "<h3>엔트로피</h3>"
   ]
  },
  {
   "cell_type": "code",
   "execution_count": 29,
   "id": "f429e2b6",
   "metadata": {},
   "outputs": [],
   "source": [
    "import pymysql\n",
    "import math"
   ]
  },
  {
   "cell_type": "code",
   "execution_count": 17,
   "id": "6e16e7e9",
   "metadata": {},
   "outputs": [],
   "source": [
    "def connectdb():\n",
    "    db = pymysql.connect(\n",
    "        user = 'root',\n",
    "        passwd = '110419',\n",
    "        host = '127.0.0.1',\n",
    "        db = 'knowledgebase',\n",
    "        charset = 'utf8'\n",
    "    )\n",
    "    \n",
    "    cursor = db.cursor(pymysql.cursors.DictCursor)\n",
    "    \n",
    "    return db, cursor"
   ]
  },
  {
   "cell_type": "code",
   "execution_count": 18,
   "id": "b461cf7e",
   "metadata": {},
   "outputs": [],
   "source": [
    "def separate_dict(data):\n",
    "    names = []\n",
    "    pathes = []\n",
    "    \n",
    "    for line in data:\n",
    "        names.append(line['name'])\n",
    "        \n",
    "        path = line['path']\n",
    "        path_split = path.split('\\\\')[:-1]\n",
    "        pathes.append(path_split)\n",
    "        \n",
    "    return names, pathes"
   ]
  },
  {
   "cell_type": "code",
   "execution_count": 19,
   "id": "d7ba308e",
   "metadata": {},
   "outputs": [],
   "source": [
    "def E(p):\n",
    "    return - math.log2(1 + p)\n",
    "\n",
    "def E2(p):\n",
    "    return math.log2(p) * p"
   ]
  },
  {
   "cell_type": "code",
   "execution_count": 20,
   "id": "8550f1c1",
   "metadata": {},
   "outputs": [],
   "source": [
    "def cal_entropy(name, path):\n",
    "    db, cursor = connectdb()\n",
    "    \n",
    "    sql = \"select * from `exelist`;\"\n",
    "    cursor.execute(sql)\n",
    "    result = cursor.fetchall()\n",
    "    \n",
    "    names, pathes = separate_dict(result)\n",
    "    path = path.split('\\\\')[:-1]\n",
    "    \n",
    "    #name의 엔트로피\n",
    "#    e = 0\n",
    "#    for i in names:\n",
    "#        if i == name:\n",
    "#            p = 1 + 1/(names.count(name) + 1)\n",
    "#        else:\n",
    "#            p = 1\n",
    "#        e += E(p)\n",
    "#    name_e = 1 + e/math.log2(len(names))\n",
    "    p = names.count(name)/len(names)\n",
    "    name_e = E(p)\n",
    "\n",
    "    #path의 각 단어를 반복문으로 돌면서 path의 등장 비율 계산하고 엔트로피계산해서 모두 더함    \n",
    "    e = 0\n",
    "    for i in path:\n",
    "        tmp = 0\n",
    "        total_i = 0\n",
    "        for k in pathes:\n",
    "            total_i += k.count(i)\n",
    "        for j in pathes:\n",
    "            p = 1 + j.count(i)/(total_i + 1)\n",
    "            tmp += E2(p)\n",
    "        e += tmp\n",
    "    path_e = 1 + e/math.log2(len(pathes))\n",
    "    \n",
    "    #return name_e+path_2\n",
    "    return name_e"
   ]
  },
  {
   "cell_type": "code",
   "execution_count": 21,
   "id": "75e7878a",
   "metadata": {},
   "outputs": [],
   "source": [
    "def scoring(path):\n",
    "    e_list = []\n",
    "    infected_list = []\n",
    "        \n",
    "    df = pd.read_csv(path, index_col = 0)\n",
    "    for idx in range(0, len(df)):\n",
    "        name = df.loc[idx][\"Name\"]\n",
    "        Path = df.loc[idx][\"Path\"]\n",
    "            \n",
    "        e = cal_entropy(name, Path)\n",
    "        \n",
    "        if df.loc[idx][\"Infected\"] == 1:\n",
    "            infected_list.append(e)\n",
    "        e_list.append(e)\n",
    "        \n",
    "    return e_list"
   ]
  },
  {
   "cell_type": "code",
   "execution_count": 40,
   "id": "1668ebb6",
   "metadata": {},
   "outputs": [
    {
     "name": "stdout",
     "output_type": "stream",
     "text": [
      "========================================================\n",
      "2a198c0616908013a49e856678b5143c\n",
      "5/5 [==============================] - 0s 500us/step\n",
      "========================================================\n",
      "4684f096da1f045a4e5c4ee7ca945259\n",
      "5/5 [==============================] - 0s 811us/step\n",
      "========================================================\n",
      "4996efb901d5c379c575bb7908651071\n",
      "5/5 [==============================] - 0s 751us/step\n",
      "========================================================\n",
      "4aa53791373b8d09b5773f3ea086b803\n",
      "5/5 [==============================] - 0s 879us/step\n",
      "========================================================\n",
      "5771a7f5aaa45c2a12fa7d1d043ae222\n",
      "5/5 [==============================] - 0s 501us/step\n",
      "========================================================\n",
      "6b8d9642391687d948129206b805b980\n",
      "5/5 [==============================] - 0s 1ms/step\n",
      "========================================================\n",
      "6e2da504218d67df1a4d8db18e9be706\n",
      "5/5 [==============================] - 0s 639us/step\n",
      "========================================================\n",
      "6ea487c55f789e2d2c0b3c20c8674214\n",
      "5/5 [==============================] - 0s 0s/step\n",
      "========================================================\n",
      "6eedee0bc42edb6922e6e78f749bab88\n",
      "5/5 [==============================] - 0s 2ms/step\n",
      "========================================================\n",
      "6f194c2bf64aa91f8b25768aaedf954e\n",
      "6/6 [==============================] - 0s 601us/step\n",
      "========================================================\n",
      "6f3c7fa16f0e61f01c9ca873ce257981\n",
      "5/5 [==============================] - 0s 1ms/step\n",
      "========================================================\n",
      "6fd75941954dda0a8d6bd5180b233a37\n",
      "6/6 [==============================] - 0s 600us/step\n",
      "========================================================\n",
      "8102acd2e76cdc88d8c893ed30e56f46\n",
      "5/5 [==============================] - 0s 751us/step\n",
      "========================================================\n",
      "8821a5f07134fbaacf35ba62ba50aaed\n",
      "5/5 [==============================] - 0s 0s/step\n",
      "========================================================\n",
      "9629bdb89f6d9fa96162f5d4a0be3e38\n",
      "5/5 [==============================] - 0s 866us/step\n"
     ]
    }
   ],
   "source": [
    "path = \"infected system/\"\n",
    "listdir = os.listdir(path)\n",
    "\n",
    "for system in listdir:\n",
    "    print(\"========================================================\")\n",
    "    print(system)\n",
    "    test_wmi, wmi_mal, csv1= load_data(path + system)\n",
    "    wmi_mse = detect(test_wmi)\n",
    "    \n",
    "    error_df = pd.DataFrame({'reconstruction_error': wmi_mse})\n",
    "    e_list = scoring(\"is_after/\" + system + \"_wmi.csv\")\n",
    "    \n",
    "    error_df = error_df.assign(Entropy = e_list)\n",
    "    sorted_df = error_df.sort_values(by = 'reconstruction_error', ascending = False)\n",
    "    \n",
    "    namelist = []\n",
    "    for i in sorted_df.head(len(sorted_df)//10).index:\n",
    "    #for i in sorted_df.index:\n",
    "        name = csv1.loc[i][\"Name\"]\n",
    "        if i in wmi_mal:\n",
    "            print(\"  \", name, sorted_df.index.tolist().index(i), \"/\", len(sorted_df))\n",
    "\n",
    "    part2_df = sorted_df[len(sorted_df)//10:]\n",
    "    part2_df = part2_df.sort_values(by = 'Entropy', ascending = False)\n",
    "    for i in part2_df.index:\n",
    "        name = csv1.loc[i][\"Name\"]\n",
    "        if i in wmi_mal:\n",
    "            print(\"  \", name, part2_df.index.tolist().index(i), \"/\", len(part2_df))"
   ]
  },
  {
   "cell_type": "code",
   "execution_count": null,
   "id": "fa67e884",
   "metadata": {},
   "outputs": [],
   "source": []
  }
 ],
 "metadata": {
  "kernelspec": {
   "display_name": "Python 3 (ipykernel)",
   "language": "python",
   "name": "python3"
  },
  "language_info": {
   "codemirror_mode": {
    "name": "ipython",
    "version": 3
   },
   "file_extension": ".py",
   "mimetype": "text/x-python",
   "name": "python",
   "nbconvert_exporter": "python",
   "pygments_lexer": "ipython3",
   "version": "3.7.16"
  }
 },
 "nbformat": 4,
 "nbformat_minor": 5
}
